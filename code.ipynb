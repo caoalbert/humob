{
 "cells": [
  {
   "cell_type": "code",
   "execution_count": null,
   "metadata": {},
   "outputs": [],
   "source": [
    "import pandas as pd\n",
    "import numpy as np\n",
    "import seaborn as sns\n",
    "import matplotlib.pyplot as plt"
   ]
  },
  {
   "cell_type": "code",
   "execution_count": null,
   "metadata": {},
   "outputs": [],
   "source": [
    "task1 = pd.read_csv('task1_dataset.csv')\n",
    "poi = pd.read_csv('cell_POIcat.csv')"
   ]
  },
  {
   "cell_type": "markdown",
   "metadata": {},
   "source": [
    "### Select the training data"
   ]
  },
  {
   "cell_type": "code",
   "execution_count": null,
   "metadata": {},
   "outputs": [],
   "source": [
    "task1 = task1[task1['x'] != 999]"
   ]
  },
  {
   "cell_type": "markdown",
   "metadata": {},
   "source": [
    "### Home and work location detection"
   ]
  },
  {
   "cell_type": "code",
   "execution_count": null,
   "metadata": {},
   "outputs": [],
   "source": [
    "task1_night = task1[(task1['t'] <= 13) | (task1['t'] >= 38)]\n",
    "task1_night_count = task1_night.groupby(['uid', 'x', 'y']).count().reset_index()\n",
    "home_idx = task1_night_count.groupby(['uid'])['t'].idxmax()\n",
    "home_locations = task1_night_count.loc[home_idx,:]\n",
    "home_locations = home_locations[home_locations['x'] < 250].reset_index(drop=True)"
   ]
  },
  {
   "cell_type": "code",
   "execution_count": null,
   "metadata": {},
   "outputs": [],
   "source": [
    "task1_day = task1[(task1['t'] > 13) & (task1['t'] < 38)]\n",
    "task1_day_count = task1_day.groupby(['uid', 'x', 'y']).count().reset_index()\n",
    "work_idx = task1_day_count.groupby(['uid'])['t'].idxmax()\n",
    "work_locations = task1_day_count.loc[work_idx,:]\n",
    "work_locations = work_locations[work_locations['x'] < 250].reset_index(drop=True)"
   ]
  },
  {
   "cell_type": "markdown",
   "metadata": {},
   "source": [
    "### Select users that have work and home, and identify weekend"
   ]
  },
  {
   "cell_type": "code",
   "execution_count": null,
   "metadata": {},
   "outputs": [],
   "source": [
    "users = np.array(list(set(home_locations['uid']).intersection(set(work_locations['uid']))))"
   ]
  },
  {
   "cell_type": "code",
   "execution_count": null,
   "metadata": {},
   "outputs": [],
   "source": [
    "task1['weekend'] = task1['d'].apply(lambda x: True if (x%7 == 0) | (x%7 ==1) else False)"
   ]
  },
  {
   "cell_type": "code",
   "execution_count": null,
   "metadata": {},
   "outputs": [],
   "source": [
    "task1_weekday = task1[(task1['uid'].isin(users))& (task1['weekend'] == False)]\n",
    "task1_weekend = task1[(task1['uid'].isin(users))& (task1['weekend'] == True)]"
   ]
  },
  {
   "cell_type": "markdown",
   "metadata": {},
   "source": [
    "### Construct a typical day for users"
   ]
  },
  {
   "cell_type": "code",
   "execution_count": null,
   "metadata": {},
   "outputs": [],
   "source": [
    "def typical_day(task1):\n",
    "    typical_day_count = task1.groupby(['uid','t','x','y']).count().reset_index()\n",
    "    typical_day_id = typical_day_count.groupby(['uid', 't'])['d'].idxmax()\n",
    "    typical_day = typical_day_count.loc[typical_day_id,:]\n",
    "    return typical_day"
   ]
  },
  {
   "cell_type": "code",
   "execution_count": null,
   "metadata": {},
   "outputs": [],
   "source": [
    "task1_weekday_label = typical_day(task1_weekday)\n",
    "task1_weekend_label = typical_day(task1_weekend)"
   ]
  },
  {
   "cell_type": "markdown",
   "metadata": {},
   "source": [
    "### Label locations with home and work"
   ]
  },
  {
   "cell_type": "code",
   "execution_count": null,
   "metadata": {},
   "outputs": [],
   "source": [
    "task1_weekday_label_home = task1_weekday_label.merge(home_locations, how='left', on=['uid','x','y'])\n",
    "task1_weekday_label_home['label'] = task1_weekday_label_home['d_y'].isnull().apply(lambda x: 'none' if x == True else 'home')\n",
    "task1_weekday_label_home = task1_weekday_label_home[['uid','t_x','x','y','label']]\n",
    "task1_weekday_label_home.rename(columns = {'t_x':'t'}, inplace = True)"
   ]
  },
  {
   "cell_type": "code",
   "execution_count": null,
   "metadata": {},
   "outputs": [],
   "source": [
    "task1_weekend_label_home = task1_weekend_label.merge(home_locations, how='left', on=['uid','x','y'])\n",
    "task1_weekend_label_home['label'] = task1_weekend_label_home['d_y'].isnull().apply(lambda x: 'none' if x == True else 'home')\n",
    "task1_weekend_label_home = task1_weekend_label_home[['uid','t_x','x','y','label']]\n",
    "task1_weekend_label_home.rename(columns = {'t_x':'t'}, inplace = True)"
   ]
  },
  {
   "cell_type": "code",
   "execution_count": null,
   "metadata": {},
   "outputs": [],
   "source": [
    "task1_weekday_label_work = task1_weekday_label_home.merge(work_locations, how='left', on=['uid','x','y'])\n",
    "task1_weekday_label_work['label'] = np.where(~pd.isna(task1_weekday_label_work['t_y']), 'work', task1_weekday_label_work['label'])\n",
    "task1_weekday_label_work = task1_weekday_label_work[['uid','t_x','x','y','label']]\n",
    "task1_weekday_label_work.rename(columns = {'t_x':'t'}, inplace = True)"
   ]
  },
  {
   "cell_type": "code",
   "execution_count": null,
   "metadata": {},
   "outputs": [],
   "source": [
    "task1_weekend_label_work = task1_weekend_label_home.merge(work_locations, how='left', on=['uid','x','y'])\n",
    "task1_weekend_label_work['label'] = np.where(~pd.isna(task1_weekend_label_work['t_y']), 'work', task1_weekend_label_work['label'])\n",
    "task1_weekend_label_work = task1_weekend_label_work[['uid','t_x','x','y','label']]\n",
    "task1_weekend_label_work.rename(columns = {'t_x':'t'}, inplace = True)"
   ]
  },
  {
   "cell_type": "markdown",
   "metadata": {},
   "source": [
    "### Label OR and OE"
   ]
  },
  {
   "cell_type": "code",
   "execution_count": null,
   "metadata": {},
   "outputs": [],
   "source": [
    "first_weekday_visit_grouped = task1_weekday.groupby(['uid','x','y']).count().reset_index()\n",
    "weekday_one_visit = first_weekday_visit_grouped[first_weekday_visit_grouped['t'] == 1][['uid','x','y']]"
   ]
  },
  {
   "cell_type": "code",
   "execution_count": null,
   "metadata": {},
   "outputs": [],
   "source": [
    "first_weekend_visit_grouped = task1_weekend.groupby(['uid','x','y']).count().reset_index()\n",
    "weekend_one_visit = first_weekend_visit_grouped[first_weekend_visit_grouped['t'] == 1][['uid','x','y']]"
   ]
  },
  {
   "cell_type": "code",
   "execution_count": null,
   "metadata": {},
   "outputs": [],
   "source": [
    "task1_weekday_label_OE = task1_weekday_label_work.merge(weekday_one_visit.reset_index(), how='left', on=['uid','x','y'])\n",
    "task1_weekday_label_OE['label'] = np.where(~pd.isna(task1_weekday_label_OE['index']), 'E', task1_weekday_label_OE['label'])\n",
    "task1_weekday_label_OE['label'] = np.where(task1_weekday_label_OE['label'] == 'none', 'R',task1_weekday_label_OE['label'])\n",
    "task1_weekday_label = task1_weekday_label_OE[['uid','t','x','y','label']]"
   ]
  },
  {
   "cell_type": "code",
   "execution_count": null,
   "metadata": {},
   "outputs": [],
   "source": [
    "task1_weekend_label_OE = task1_weekend_label_work.merge(weekend_one_visit.reset_index(), how='left', on=['uid','x','y'])\n",
    "task1_weekend_label_OE['label'] = np.where(~pd.isna(task1_weekend_label_OE['index']), 'E', task1_weekend_label_OE['label'])\n",
    "task1_weekend_label_OE['label'] = np.where(task1_weekend_label_OE['label'] == 'none', 'R',task1_weekend_label_OE['label'])\n",
    "task1_weekend_label = task1_weekend_label_OE[['uid','t','x','y','label']]"
   ]
  },
  {
   "cell_type": "markdown",
   "metadata": {},
   "source": [
    "### Impute the missing times"
   ]
  },
  {
   "cell_type": "code",
   "execution_count": 288,
   "metadata": {},
   "outputs": [
    {
     "name": "stderr",
     "output_type": "stream",
     "text": [
      "100%|██████████| 99987/99987 [02:49<00:00, 588.51it/s]\n"
     ]
    }
   ],
   "source": [
    "weekday_label_array = np.empty(shape=(task1_weekday_label['uid'].nunique(), 48), dtype=str)\n",
    "from tqdm import tqdm\n",
    "for i in tqdm(range(len(users))):\n",
    "    userdf = task1_weekday_label[task1_weekday_label['uid'] == users[i]].reset_index(drop=True)\n",
    "    weekday_label_array[i, 0:userdf['t'][0]+1] = userdf['label'][0]\n",
    "    index = userdf['uid'][0]\n",
    "    \n",
    "    for j in range(userdf.shape[0]):\n",
    "        # x = userdf['x'][j]\n",
    "        # y = userdf['y'][j]\n",
    "        la = userdf['label'][j]\n",
    "        t = userdf['t'][j]\n",
    "\n",
    "        weekday_label_array[i, index:t+1] = la\n",
    "        index = t+1\n",
    "    weekday_label_array[i,index:] = la\n"
   ]
  },
  {
   "cell_type": "code",
   "execution_count": 291,
   "metadata": {},
   "outputs": [
    {
     "name": "stderr",
     "output_type": "stream",
     "text": [
      "100%|██████████| 99986/99986 [02:43<00:00, 610.76it/s]\n"
     ]
    }
   ],
   "source": [
    "weekend_user = task1_weekend_label['uid'].unique()\n",
    "weekend_label_array = np.empty(shape=(task1_weekend_label['uid'].nunique(), 48), dtype=str)\n",
    "from tqdm import tqdm\n",
    "for i in tqdm(range(len(weekend_user))):\n",
    "    userdf = task1_weekend_label[task1_weekend_label['uid'] == weekend_user[i]].reset_index(drop=True)\n",
    "    weekend_label_array[i, 0:userdf['t'][0]+1] = userdf['label'][0]\n",
    "    index = userdf['uid'][0]\n",
    "    \n",
    "    for j in range(userdf.shape[0]):\n",
    "        # x = userdf['x'][j]\n",
    "        # y = userdf['y'][j]\n",
    "        la = userdf['label'][j]\n",
    "        t = userdf['t'][j]\n",
    "\n",
    "        weekend_label_array[i, index:t+1] = la\n",
    "        index = t+1\n",
    "    \n",
    "    weekend_label_array[i,index:] = la\n"
   ]
  },
  {
   "cell_type": "markdown",
   "metadata": {},
   "source": [
    "### kmode clustering for weekday and weekends"
   ]
  },
  {
   "cell_type": "code",
   "execution_count": 305,
   "metadata": {},
   "outputs": [
    {
     "name": "stderr",
     "output_type": "stream",
     "text": [
      "100%|██████████| 9/9 [27:19<00:00, 182.22s/it]\n"
     ]
    }
   ],
   "source": [
    "from kmodes.kmodes import KModes\n",
    "cost = []\n",
    "for k in tqdm(range(2,11)):\n",
    "    kmode = KModes(n_clusters=k, init = \"random\")\n",
    "    kmode.fit_predict(weekday_label_array)\n",
    "    cost.append(kmode.cost_)"
   ]
  },
  {
   "cell_type": "code",
   "execution_count": 309,
   "metadata": {},
   "outputs": [
    {
     "name": "stderr",
     "output_type": "stream",
     "text": [
      "100%|██████████| 9/9 [26:24<00:00, 176.09s/it]\n"
     ]
    }
   ],
   "source": [
    "cost2 = []\n",
    "for k in tqdm(np.arange(2,11)):\n",
    "    kmode2 = KModes(n_clusters=k, init = \"random\")\n",
    "    kmode2.fit_predict(weekend_label_array)\n",
    "    cost2.append(kmode2.cost_)"
   ]
  },
  {
   "cell_type": "code",
   "execution_count": 308,
   "metadata": {},
   "outputs": [
    {
     "data": {
      "text/plain": [
       "Text(0.5, 1.0, 'KMode Clustering for Weekday Labels')"
      ]
     },
     "execution_count": 308,
     "metadata": {},
     "output_type": "execute_result"
    },
    {
     "data": {
      "image/png": "[encoded data removed]",
      "text/plain": [
       "<Figure size 640x480 with 1 Axes>"
      ]
     },
     "metadata": {},
     "output_type": "display_data"
    }
   ],
   "source": [
    "plt.plot(np.arange(2,11), cost)\n",
    "plt.title('KMode Clustering for Weekday Labels')"
   ]
  },
  {
   "cell_type": "code",
   "execution_count": 310,
   "metadata": {},
   "outputs": [
    {
     "data": {
      "text/plain": [
       "Text(0.5, 1.0, 'KMode Clustering for Weekend Labels')"
      ]
     },
     "execution_count": 310,
     "metadata": {},
     "output_type": "execute_result"
    },
    {
     "data": {
      "image/png": "[encoded data removed]",
      "text/plain": [
       "<Figure size 640x480 with 1 Axes>"
      ]
     },
     "metadata": {},
     "output_type": "display_data"
    }
   ],
   "source": [
    "plt.plot(np.arange(2,11), cost2)\n",
    "plt.title('KMode Clustering for Weekend Labels')"
   ]
  },
  {
   "cell_type": "markdown",
   "metadata": {},
   "source": [
    "### Calculate the transition matrix based on the k selected"
   ]
  },
  {
   "cell_type": "code",
   "execution_count": 292,
   "metadata": {},
   "outputs": [
    {
     "data": {
      "text/plain": [
       "array([['R', 'R', 'R', 'R', 'R', 'R', 'R', 'R', 'R', 'R', 'R', 'R', 'R',\n",
       "        'R', 'R', 'R', 'R', 'R', 'R', 'R', 'R', 'R', 'R', 'R', 'R', 'R',\n",
       "        'R', 'R', 'R', 'R', 'R', 'R', 'R', 'R', 'R', 'R', 'R', 'R', 'R',\n",
       "        'R', 'R', 'R', 'R', 'R', 'R', 'R', 'R', 'R'],\n",
       "       ['w', 'w', 'w', 'w', 'w', 'w', 'w', 'w', 'w', 'w', 'w', 'w', 'w',\n",
       "        'w', 'w', 'R', 'R', 'R', 'R', 'R', 'R', 'R', 'R', 'R', 'R', 'R',\n",
       "        'R', 'R', 'R', 'R', 'R', 'R', 'R', 'R', 'w', 'w', 'w', 'w', 'w',\n",
       "        'w', 'w', 'w', 'w', 'w', 'w', 'w', 'w', 'w'],\n",
       "       ['h', 'h', 'h', 'h', 'h', 'h', 'h', 'h', 'h', 'h', 'h', 'h', 'h',\n",
       "        'h', 'R', 'R', 'w', 'w', 'w', 'w', 'w', 'w', 'w', 'w', 'w', 'w',\n",
       "        'w', 'w', 'w', 'w', 'w', 'w', 'w', 'w', 'w', 'w', 'R', 'h', 'h',\n",
       "        'h', 'h', 'h', 'h', 'h', 'h', 'h', 'h', 'h'],\n",
       "       ['w', 'w', 'w', 'w', 'w', 'w', 'w', 'w', 'w', 'w', 'w', 'w', 'w',\n",
       "        'w', 'w', 'w', 'w', 'w', 'w', 'w', 'w', 'w', 'w', 'w', 'w', 'w',\n",
       "        'w', 'w', 'w', 'w', 'w', 'w', 'w', 'w', 'w', 'w', 'w', 'w', 'w',\n",
       "        'w', 'w', 'w', 'w', 'w', 'w', 'w', 'w', 'w'],\n",
       "       ['R', 'R', 'R', 'R', 'R', 'R', 'R', 'R', 'R', 'R', 'R', 'R', 'R',\n",
       "        'R', 'R', 'w', 'w', 'w', 'w', 'w', 'w', 'w', 'w', 'w', 'w', 'w',\n",
       "        'w', 'w', 'w', 'w', 'w', 'w', 'w', 'w', 'w', 'w', 'w', 'h', 'h',\n",
       "        'h', 'h', 'h', 'h', 'h', 'h', 'h', 'h', 'h']], dtype='<U1')"
      ]
     },
     "execution_count": 292,
     "metadata": {},
     "output_type": "execute_result"
    }
   ],
   "source": [
    "kmode = KModes(n_clusters=5, init = \"random\")\n",
    "predicted_mode = kmode.fit_predict(weekday_label_array)\n",
    "kmode.cluster_centroids_"
   ]
  },
  {
   "cell_type": "code",
   "execution_count": 293,
   "metadata": {},
   "outputs": [],
   "source": [
    "np.save('weekday_user/cluster_label.npy', kmode.cluster_centroids_)"
   ]
  },
  {
   "cell_type": "code",
   "execution_count": 345,
   "metadata": {},
   "outputs": [],
   "source": [
    "import importlib\n",
    "import utils\n",
    "importlib.reload(utils)\n",
    "from utils import data_to_transition_matrix\n",
    "transition_matrix_weekday = np.zeros(shape=(5,3,4,4))\n",
    "\n",
    "for i in range(5):\n",
    "    user_in_cluster = users[predicted_mode==i]\n",
    "    np.save(f'weekday_user/cluster_{i}.npy', user_in_cluster)\n",
    "\n",
    "    label_in_cluster = weekday_label_array[predicted_mode == i,:]\n",
    "    cluster_transition_matrix = data_to_transition_matrix(label_in_cluster)\n",
    "    transition_matrix_weekday[i] = cluster_transition_matrix\n",
    "\n",
    "np.save('weekday_user/transition_matrix.npy', transition_matrix_weekday)"
   ]
  },
  {
   "cell_type": "code",
   "execution_count": 301,
   "metadata": {},
   "outputs": [
    {
     "data": {
      "text/plain": [
       "array([['h', 'h', 'h', 'h', 'h', 'h', 'h', 'h', 'h', 'h', 'h', 'h', 'h',\n",
       "        'R', 'R', 'R', 'R', 'R', 'R', 'R', 'R', 'R', 'R', 'R', 'R', 'R',\n",
       "        'R', 'R', 'R', 'R', 'R', 'R', 'R', 'R', 'R', 'R', 'R', 'R', 'h',\n",
       "        'h', 'h', 'h', 'h', 'h', 'h', 'h', 'h', 'h'],\n",
       "       ['R', 'R', 'R', 'R', 'R', 'R', 'R', 'R', 'R', 'R', 'R', 'R', 'R',\n",
       "        'R', 'R', 'R', 'R', 'R', 'R', 'R', 'R', 'R', 'R', 'R', 'R', 'R',\n",
       "        'R', 'R', 'R', 'R', 'R', 'R', 'R', 'R', 'R', 'R', 'R', 'R', 'R',\n",
       "        'R', 'R', 'R', 'R', 'R', 'R', 'R', 'R', 'R'],\n",
       "       ['w', 'w', 'w', 'w', 'w', 'w', 'w', 'w', 'w', 'w', 'w', 'w', 'w',\n",
       "        'w', 'w', 'w', 'w', 'w', 'w', 'w', 'w', 'w', 'w', 'w', 'w', 'w',\n",
       "        'w', 'w', 'w', 'w', 'w', 'w', 'w', 'w', 'w', 'w', 'w', 'w', 'w',\n",
       "        'w', 'w', 'w', 'w', 'w', 'w', 'w', 'w', 'w'],\n",
       "       ['h', 'h', 'h', 'h', 'h', 'h', 'h', 'h', 'h', 'h', 'h', 'h', 'h',\n",
       "        'h', 'R', 'w', 'w', 'w', 'w', 'w', 'w', 'w', 'w', 'w', 'w', 'w',\n",
       "        'w', 'w', 'w', 'w', 'w', 'w', 'w', 'w', 'w', 'w', 'h', 'h', 'h',\n",
       "        'h', 'h', 'h', 'h', 'h', 'h', 'h', 'h', 'h'],\n",
       "       ['E', 'E', 'E', 'E', 'E', 'E', 'E', 'E', 'E', 'E', 'E', 'E', 'E',\n",
       "        'E', 'E', 'R', 'R', 'R', 'R', 'R', 'R', 'R', 'R', 'R', 'R', 'R',\n",
       "        'R', 'R', 'R', 'R', 'R', 'R', 'R', 'R', 'R', 'R', 'R', 'R', 'R',\n",
       "        'R', 'R', 'R', 'R', 'R', 'R', 'R', 'R', 'R']], dtype='<U1')"
      ]
     },
     "execution_count": 301,
     "metadata": {},
     "output_type": "execute_result"
    }
   ],
   "source": [
    "kmode_weekend = KModes(n_clusters=5, init = \"random\")\n",
    "predicted_mode_weekend = kmode_weekend.fit_predict(weekend_label_array)\n",
    "kmode_weekend.cluster_centroids_"
   ]
  },
  {
   "cell_type": "code",
   "execution_count": 302,
   "metadata": {},
   "outputs": [],
   "source": [
    "np.save('weekend_user/cluster_label.npy', kmode_weekend.cluster_centroids_)"
   ]
  },
  {
   "cell_type": "code",
   "execution_count": 346,
   "metadata": {},
   "outputs": [],
   "source": [
    "transition_matrix_weekend = np.zeros(shape=(5,3,4,4))\n",
    "for i in range(5):\n",
    "    user_in_cluster = weekend_user[predicted_mode_weekend==i]\n",
    "    np.save(f'weekend_user/cluster_{i}.npy', user_in_cluster)\n",
    "\n",
    "    label_in_cluster = weekend_label_array[predicted_mode_weekend == i,:]\n",
    "    cluster_transition_matrix = data_to_transition_matrix(label_in_cluster)\n",
    "    transition_matrix_weekend[i] = cluster_transition_matrix\n",
    "\n",
    "np.save('weekend_user/transition_matrix.npy', transition_matrix_weekend)"
   ]
  },
  {
   "cell_type": "markdown",
   "metadata": {},
   "source": [
    "### Obtain the initial state vectors"
   ]
  },
  {
   "cell_type": "code",
   "execution_count": 375,
   "metadata": {},
   "outputs": [],
   "source": [
    "def append_home_locations(data, df_poi):\n",
    "    merged = data.merge(df_poi, how='left', on=['uid','x','y'])\n",
    "    merged['label'] = merged['d_y'].isnull().apply(lambda x: 'none' if x == True else 'home')\n",
    "    merged = merged[['uid','t_x','x','y','label']]\n",
    "    merged.rename(columns = {'t_x':'t'}, inplace = True)\n",
    "    return merged\n",
    "\n",
    "def append_home_work_locations(data, df_poi):\n",
    "    merged = data.merge(df_poi, how='left', on=['uid','x','y'])\n",
    "    merged['label'] = np.where(~pd.isna(merged['t_y']), 'work', merged['label'])\n",
    "    merged = merged[['uid','t_x','x','y','label']]\n",
    "    merged.rename(columns = {'t_x':'t'}, inplace = True)\n",
    "    return merged\n",
    "\n",
    "def append_or_oe(data, df_poi):\n",
    "    merged = data.merge(df_poi.reset_index(), how='left', on=['uid','x','y'])\n",
    "    merged['label'] = np.where(~pd.isna(merged['index']), 'E', merged['label'])\n",
    "    merged['label'] = np.where(merged['label'] == 'none', 'R', merged['label'])\n",
    "    merged = merged[['uid','t','x','y','label']]\n",
    "    return merged"
   ]
  },
  {
   "cell_type": "code",
   "execution_count": 380,
   "metadata": {},
   "outputs": [],
   "source": [
    "task1_weekday_initial_state = task1_weekday[task1_weekday['t'].isin([0,16,34])]\n",
    "task1_weekday_initial_state_grouped = task1_weekday_initial_state.groupby(['uid','t','x','y']).count().reset_index()\n",
    "initial_state_idx = task1_weekday_initial_state_grouped.groupby(['uid','t'])['d'].idxmax()\n",
    "initial_state_weekday = task1_weekday_initial_state_grouped.loc[initial_state_idx,:].reset_index(drop=True)"
   ]
  },
  {
   "cell_type": "code",
   "execution_count": 381,
   "metadata": {},
   "outputs": [],
   "source": [
    "initial_state_weekday_home = append_home_locations(initial_state_weekday, home_locations)\n",
    "initial_state_weekday_home_work = append_home_work_locations(initial_state_weekday_home, work_locations)\n",
    "initial_state_weekday_results = append_or_oe(initial_state_weekday_home_work, weekday_one_visit)\n",
    "initial_state_weekday_results.to_csv('weekday_user/initial_state.csv', index=False)"
   ]
  },
  {
   "cell_type": "code",
   "execution_count": 383,
   "metadata": {},
   "outputs": [],
   "source": [
    "task1_weekend_initial_state = task1_weekend[task1_weekend['t'].isin([0,16,34])]\n",
    "task1_weekend_initial_state_grouped = task1_weekend_initial_state.groupby(['uid','t','x','y']).count().reset_index()\n",
    "initial_state_idx = task1_weekend_initial_state_grouped.groupby(['uid','t'])['d'].idxmax()\n",
    "initial_state_weekend = task1_weekend_initial_state_grouped.loc[initial_state_idx,:].reset_index(drop=True)"
   ]
  },
  {
   "cell_type": "code",
   "execution_count": 384,
   "metadata": {},
   "outputs": [],
   "source": [
    "initial_state_weekend_home = append_home_locations(initial_state_weekend, home_locations)\n",
    "initial_state_weekend_home_work = append_home_work_locations(initial_state_weekend_home, work_locations)\n",
    "initial_state_weekend_results = append_or_oe(initial_state_weekend_home_work, weekend_one_visit)\n",
    "initial_state_weekend_results.to_csv('weekend_user/initial_state.csv', index=False)"
   ]
  }
 ],
 "metadata": {
  "kernelspec": {
   "display_name": "base",
   "language": "python",
   "name": "python3"
  },
  "language_info": {
   "codemirror_mode": {
    "name": "ipython",
    "version": 3
   },
   "file_extension": ".py",
   "mimetype": "text/x-python",
   "name": "python",
   "nbconvert_exporter": "python",
   "pygments_lexer": "ipython3",
   "version": "3.9.7"
  },
  "orig_nbformat": 4
 },
 "nbformat": 4,
 "nbformat_minor": 2
}
